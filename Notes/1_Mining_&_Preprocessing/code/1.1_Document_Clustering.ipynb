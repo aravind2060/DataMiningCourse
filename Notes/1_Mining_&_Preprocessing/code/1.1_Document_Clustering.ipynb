{
 "cells": [
  {
   "cell_type": "code",
   "execution_count": 2,
   "metadata": {},
   "outputs": [
    {
     "name": "stderr",
     "output_type": "stream",
     "text": [
      "[nltk_data] Downloading package stopwords to\n",
      "[nltk_data]     C:\\Users\\Aravind\\AppData\\Roaming\\nltk_data...\n",
      "[nltk_data]   Unzipping corpora\\stopwords.zip.\n"
     ]
    },
    {
     "name": "stdout",
     "output_type": "stream",
     "text": [
      "Document clustering results:\n",
      "Document 0: Cluster 2\n",
      "Document 1: Cluster 1\n",
      "Document 2: Cluster 0\n",
      "Document 3: Cluster 1\n",
      "Document 4: Cluster 0\n",
      "Document 5: Cluster 1\n",
      "Document 6: Cluster 0\n",
      "Document 7: Cluster 2\n",
      "Silhouette Score: 0.14\n"
     ]
    }
   ],
   "source": [
    "import numpy as np\n",
    "from sklearn.feature_extraction.text import TfidfVectorizer\n",
    "from sklearn.cluster import KMeans\n",
    "from sklearn.metrics import silhouette_score\n",
    "import nltk\n",
    "from nltk.corpus import stopwords\n",
    "nltk.download('stopwords')\n",
    "\n",
    "# Sample documents\n",
    "documents = [\n",
    "    \"I love programming in Python.\",\n",
    "    \"Python is great for data science.\",\n",
    "    \"The weather is beautiful today.\",\n",
    "    \"I am learning data science with Python.\",\n",
    "    \"The quick brown fox jumps over the lazy dog.\",\n",
    "    \"Data science is an interdisciplinary field.\",\n",
    "    \"The dog barks at the mailman.\",\n",
    "    \"Python programming is versatile and powerful.\"\n",
    "]\n",
    "\n",
    "# Preprocess text\n",
    "stop_words = stopwords.words('english')\n",
    "vectorizer = TfidfVectorizer(stop_words=stop_words)\n",
    "X = vectorizer.fit_transform(documents)\n",
    "\n",
    "# Perform K-means clustering\n",
    "num_clusters = 3\n",
    "kmeans = KMeans(n_clusters=num_clusters, random_state=42)\n",
    "kmeans.fit(X)\n",
    "\n",
    "# Assign clusters to documents\n",
    "clusters = kmeans.predict(X)\n",
    "\n",
    "# Print cluster assignments\n",
    "print(\"Document clustering results:\")\n",
    "for i, doc in enumerate(documents):\n",
    "    print(f\"Document {i}: Cluster {clusters[i]}\")\n",
    "\n",
    "# Evaluate clustering\n",
    "silhouette_avg = silhouette_score(X, clusters)\n",
    "print(f\"Silhouette Score: {silhouette_avg:.2f}\")"
   ]
  },
  {
   "cell_type": "code",
   "execution_count": null,
   "metadata": {},
   "outputs": [],
   "source": []
  }
 ],
 "metadata": {
  "kernelspec": {
   "display_name": "Python 3",
   "language": "python",
   "name": "python3"
  },
  "language_info": {
   "codemirror_mode": {
    "name": "ipython",
    "version": 3
   },
   "file_extension": ".py",
   "mimetype": "text/x-python",
   "name": "python",
   "nbconvert_exporter": "python",
   "pygments_lexer": "ipython3",
   "version": "3.12.4"
  }
 },
 "nbformat": 4,
 "nbformat_minor": 2
}
